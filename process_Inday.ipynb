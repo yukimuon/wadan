{
 "cells": [
  {
   "cell_type": "code",
   "execution_count": 1,
   "metadata": {},
   "outputs": [],
   "source": [
    "import numpy as np\n",
    "import matplotlib.pyplot as plt\n",
    "import os\n",
    "import csv\n",
    "import random\n",
    "import numpy as np\n",
    "import matplotlib.pyplot as plt\n",
    "import pickle"
   ]
  },
  {
   "cell_type": "code",
   "execution_count": 2,
   "metadata": {},
   "outputs": [],
   "source": [
    "def list2dic(l): \n",
    "    dic = {} \n",
    "    for item in l: \n",
    "        if (item in dic): \n",
    "            dic[item] += 1\n",
    "        else: \n",
    "            dic[item] = 1\n",
    "    return dic"
   ]
  },
  {
   "cell_type": "code",
   "execution_count": 3,
   "metadata": {},
   "outputs": [],
   "source": [
    "def process_totext(day,apple):\n",
    "    if day<10:\n",
    "        day=\"0\"+str(day)\n",
    "    else:\n",
    "        day=str(i)\n",
    "    prefix=\"data/2020-04-\"\n",
    "    rec_24=[]\n",
    "    rec_7=0\n",
    "    with open(prefix+day+[\"\",\"appledata\"][apple]+\".csv\", newline='') as csvfile:\n",
    "        reader = csv.reader(csvfile)\n",
    "        for row in reader:\n",
    "            time=row[1]\n",
    "            time_24h=time.split(\" \")[3]\n",
    "            time_7d=time.split(\" \")[0]\n",
    "            rec_24.append(time_24h[:2])\n",
    "            rec_7+=1\n",
    "        times=list2dic(rec_24)\n",
    "        with open('timerec.txt', 'a') as f:\n",
    "            f.write(prefix+day+[\"\",\"appledata\"][apple]+\".csv\"+\" : \"+str(rec_7)+\"\\n\")\n",
    "            f.write(str(times))\n",
    "            f.write(\"\\n\")\n",
    "        "
   ]
  },
  {
   "cell_type": "code",
   "execution_count": 4,
   "metadata": {},
   "outputs": [],
   "source": [
    "for i in range(1,12):\n",
    "    process_totext(i,0)    \n",
    "    process_totext(i,1)"
   ]
  },
  {
   "cell_type": "code",
   "execution_count": 17,
   "metadata": {},
   "outputs": [],
   "source": [
    "def vis(day,apple):\n",
    "    if day<10:\n",
    "        day=\"0\"+str(day)\n",
    "    else:\n",
    "        day=str(i)\n",
    "    prefix=\"data/2020-04-\"\n",
    "    rec_24=[]\n",
    "    rec_7=0\n",
    "    with open(prefix+day+[\"\",\"appledata\"][apple]+\".csv\", newline='') as csvfile:\n",
    "        reader = csv.reader(csvfile)\n",
    "        for row in reader:\n",
    "            time=row[1]\n",
    "            time_24h=time.split(\" \")[3]\n",
    "            time_7d=time.split(\" \")[0]\n",
    "            rec_24.append(time_24h[:2])\n",
    "            rec_7+=1\n",
    "        times=list2dic(rec_24)\n",
    "    lists = sorted(times.items())\n",
    "    x, y = zip(*lists)\n",
    "    plt.plot(x, y)\n",
    "    plt.show()"
   ]
  },
  {
   "cell_type": "code",
   "execution_count": 20,
   "metadata": {},
   "outputs": [
    {
     "data": {
      "image/png": "[encoded data removed]",
      "text/plain": [
       "<Figure size 432x288 with 1 Axes>"
      ]
     },
     "metadata": {
      "needs_background": "light"
     },
     "output_type": "display_data"
    }
   ],
   "source": [
    "vis(5,0)"
   ]
  },
  {
   "cell_type": "code",
   "execution_count": 10,
   "metadata": {},
   "outputs": [],
   "source": [
    "def fol_count(day,apple):\n",
    "    if day<10:\n",
    "        day=\"0\"+str(day)\n",
    "    else:\n",
    "        day=str(i)\n",
    "    prefix=\"data/2020-04-\"\n",
    "    fow=0\n",
    "    user=0\n",
    "    with open(prefix+day+[\"\",\"appledata\"][apple]+\".csv\", newline='') as csvfile:\n",
    "        reader = csv.reader(csvfile)\n",
    "        for row in reader:\n",
    "            if apple==1:                \n",
    "                fow+=int(row[3])\n",
    "                user+=1\n",
    "            else:\n",
    "                if \"apple\" not in row[2].lower():\n",
    "                    fow+=int(row[3])\n",
    "                    user+=1\n",
    "                else:\n",
    "                    pass\n",
    "        avg=fow/user\n",
    "    print(\"Average followers number for \"+prefix+day+\" \"+[\"average\",\"apple average\"][apple]+\" is \"+str(avg))\n",
    "    return avg\n",
    "            \n",
    "            "
   ]
  },
  {
   "cell_type": "code",
   "execution_count": 11,
   "metadata": {
    "scrolled": false
   },
   "outputs": [
    {
     "name": "stdout",
     "output_type": "stream",
     "text": [
      "Average followers number for data/2020-04-12 average is 5180.356007637468\n"
     ]
    },
    {
     "data": {
      "text/plain": [
       "5180.356007637468"
      ]
     },
     "execution_count": 11,
     "metadata": {},
     "output_type": "execute_result"
    }
   ],
   "source": [
    "fol_count(10,0)"
   ]
  },
  {
   "cell_type": "code",
   "execution_count": 22,
   "metadata": {},
   "outputs": [
    {
     "name": "stdout",
     "output_type": "stream",
     "text": [
      "Average followers number for data/2020-04-01 average is 8058.233693337417\n",
      "Average followers number for data/2020-04-01 apple average is 8295.353331949345\n",
      "Average followers number for data/2020-04-02 average is 7899.072556320629\n",
      "Average followers number for data/2020-04-02 apple average is 9548.289710418094\n",
      "Average followers number for data/2020-04-03 average is 7685.569204829229\n",
      "Average followers number for data/2020-04-03 apple average is 8690.67989677804\n",
      "Average followers number for data/2020-04-04 average is 5121.623482984796\n",
      "Average followers number for data/2020-04-04 apple average is 6197.792156862745\n",
      "Average followers number for data/2020-04-05 average is 5071.230314571791\n",
      "Average followers number for data/2020-04-05 apple average is 5556.888348167319\n",
      "Average followers number for data/2020-04-06 average is 7948.831683254865\n",
      "Average followers number for data/2020-04-06 apple average is 7445.6878104255375\n",
      "Average followers number for data/2020-04-07 average is 8088.493771195509\n",
      "Average followers number for data/2020-04-07 apple average is 7371.878518976048\n",
      "Average followers number for data/2020-04-08 average is 8870.2096207227\n",
      "Average followers number for data/2020-04-08 apple average is 8611.892527581824\n",
      "Average followers number for data/2020-04-09 average is 9537.78321023087\n",
      "Average followers number for data/2020-04-09 apple average is 7766.38159026173\n",
      "Average followers number for data/2020-04-10 average is 8747.086851026059\n",
      "Average followers number for data/2020-04-10 apple average is 9997.08984511529\n",
      "Average followers number for data/2020-04-11 average is 5978.268909692143\n",
      "Average followers number for data/2020-04-11 apple average is 7400.017845219102\n"
     ]
    },
    {
     "data": {
      "image/png": "[encoded data removed]",
      "text/plain": [
       "<Figure size 432x288 with 1 Axes>"
      ]
     },
     "metadata": {
      "needs_background": "light"
     },
     "output_type": "display_data"
    }
   ],
   "source": [
    "fol_dic={}\n",
    "for i in range(1,12):\n",
    "    fol_dic[i]=fol_count(i,0)\n",
    "    fol_dic[i+0.5]=fol_count(i,1)\n",
    "    \n",
    "plt.bar(range(len(fol_dic)), fol_dic.values(), color=['black','red'])\n",
    "plt.xticks(range(len(fol_dic)), list(fol_dic.keys()))\n",
    "plt.show()"
   ]
  },
  {
   "cell_type": "code",
   "execution_count": null,
   "metadata": {},
   "outputs": [],
   "source": []
  }
 ],
 "metadata": {
  "kernelspec": {
   "display_name": "Python 3",
   "language": "python",
   "name": "python3"
  },
  "language_info": {
   "codemirror_mode": {
    "name": "ipython",
    "version": 3
   },
   "file_extension": ".py",
   "mimetype": "text/x-python",
   "name": "python",
   "nbconvert_exporter": "python",
   "pygments_lexer": "ipython3",
   "version": "3.7.5"
  }
 },
 "nbformat": 4,
 "nbformat_minor": 4
}
