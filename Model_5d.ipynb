{
 "cells": [
  {
   "cell_type": "markdown",
   "metadata": {},
   "source": [
    "# Model_5dimensional\n",
    "This file provides the code to trains a model to evaluate a relatively short text (20 words) to 5 index, neutral, happy, sad, anger, hate\n",
    "\n",
    "### import packages"
   ]
  },
  {
   "cell_type": "code",
   "execution_count": 1,
   "metadata": {
    "colab": {
     "base_uri": "https://localhost:8080/",
     "height": 146
    },
    "colab_type": "code",
    "id": "jwK61WhjJtDe",
    "outputId": "6d406b33-4d84-4105-e5a1-a559e63c2cb5"
   },
   "outputs": [
    {
     "name": "stdout",
     "output_type": "stream",
     "text": [
      "Version:  2.0.0-beta1\n"
     ]
    }
   ],
   "source": [
    "import warnings  \n",
    "with warnings.catch_warnings():  \n",
    "    warnings.filterwarnings(\"ignore\",category=FutureWarning)\n",
    "    import numpy as np\n",
    "    import tensorflow as tf\n",
    "    import tensorflow_datasets as tfds\n",
    "    import matplotlib.pyplot as plt\n",
    "    import numpy as np\n",
    "    import os\n",
    "    from tqdm import tqdm\n",
    "    import pickle\n",
    "    import csv\n",
    "    import random\n",
    "    import tensorflow as tf\n",
    "    from tensorflow.keras import Sequential\n",
    "    import numpy as np\n",
    "    import matplotlib.pyplot as plt\n",
    "    from tensorflow.keras.layers import Dense, Dropout, Activation, Flatten, LSTM, Embedding, Reshape\n",
    "print(\"Version: \", tf.__version__)"
   ]
  },
  {
   "cell_type": "markdown",
   "metadata": {},
   "source": [
    "### Download the dataset and shuffle the texts "
   ]
  },
  {
   "cell_type": "code",
   "execution_count": 2,
   "metadata": {
    "colab": {
     "base_uri": "https://localhost:8080/",
     "height": 35
    },
    "colab_type": "code",
    "id": "vjfaBpc_JtDr",
    "outputId": "dc0da105-ac15-4b55-d5f6-a1b21fed2946",
    "scrolled": true
   },
   "outputs": [
    {
     "name": "stdout",
     "output_type": "stream",
     "text": [
      "['i getvthat my dog seems to like carrot cake and devoured a slice i brought home from a resto last week angry i like cake', '4']\n",
      "47288\n"
     ]
    }
   ],
   "source": [
    "url=\"https://raw.githubusercontent.com/tlkh/text-emotion-classification/master/data.csv\"\n",
    "import urllib.request\n",
    "urllib.request.urlretrieve(url, \"traindata.csv\")\n",
    "sentence=[]\n",
    "sentiment=[]\n",
    "texts=[]\n",
    "with open(\"traindata.csv\") as csvfile:\n",
    "    reader = csv.reader(csvfile)\n",
    "    for row in reader:\n",
    "        texts.append(row)\n",
    "            \n",
    "random.shuffle(texts)\n",
    "print(texts[12])\n",
    "for row in texts:\n",
    "    sentence.append(row[0])\n",
    "    sentiment.append(int(row[1]))\n",
    "# neutral, happy, sad, anger, hate\n",
    "print(len(sentence))"
   ]
  },
  {
   "cell_type": "markdown",
   "metadata": {},
   "source": [
    "### Fit the Tokenizer on texts and convert texts to sequences, divided data to training data and testing data"
   ]
  },
  {
   "cell_type": "code",
   "execution_count": 3,
   "metadata": {
    "colab": {
     "base_uri": "https://localhost:8080/",
     "height": 35
    },
    "colab_type": "code",
    "id": "NbC2reBkJtEe",
    "outputId": "a38a5535-b60c-408a-b8c8-3360f18d2196",
    "scrolled": true
   },
   "outputs": [
    {
     "name": "stdout",
     "output_type": "stream",
     "text": [
      "(40000, 20)\n"
     ]
    }
   ],
   "source": [
    "from tensorflow.keras.preprocessing.text import Tokenizer\n",
    "tokenizer = Tokenizer(num_words=40000)\n",
    "tokenizer.fit_on_texts(sentence)\n",
    "from tensorflow.keras.preprocessing.sequence import pad_sequences\n",
    "sentence_token = tokenizer.texts_to_sequences(sentence)\n",
    "train_x = pad_sequences(sentence_token[:40000], maxlen=20)\n",
    "train_y= np.array(sentiment[:40000])\n",
    "test_x = pad_sequences(sentence_token[40000:], maxlen=20)\n",
    "test_y=np.array(sentiment[40000:])\n",
    "print(train_x.shape)"
   ]
  },
  {
   "cell_type": "markdown",
   "metadata": {},
   "source": [
    "### Feed the data to model and fit the data to model"
   ]
  },
  {
   "cell_type": "code",
   "execution_count": 4,
   "metadata": {
    "colab": {
     "base_uri": "https://localhost:8080/",
     "height": 931
    },
    "colab_type": "code",
    "id": "e4rI2cnkJtE_",
    "outputId": "4279b525-a145-4ba4-a78f-b0c1260e25b4"
   },
   "outputs": [
    {
     "name": "stdout",
     "output_type": "stream",
     "text": [
      "Model: \"sequential\"\n",
      "_________________________________________________________________\n",
      "Layer (type)                 Output Shape              Param #   \n",
      "=================================================================\n",
      "embedding (Embedding)        (None, None, 128)         7680000   \n",
      "_________________________________________________________________\n",
      "conv1d (Conv1D)              (None, None, 100)         64100     \n",
      "_________________________________________________________________\n",
      "lstm (LSTM)                  (None, 64)                42240     \n",
      "_________________________________________________________________\n",
      "dense (Dense)                (None, 5)                 325       \n",
      "_________________________________________________________________\n",
      "dense_1 (Dense)              (None, 5)                 30        \n",
      "=================================================================\n",
      "Total params: 7,786,695\n",
      "Trainable params: 7,786,695\n",
      "Non-trainable params: 0\n",
      "_________________________________________________________________\n",
      "None\n",
      "WARNING:tensorflow:From /home/nagato/.local/lib/python3.7/site-packages/tensorflow/python/ops/math_grad.py:1250: add_dispatch_support.<locals>.wrapper (from tensorflow.python.ops.array_ops) is deprecated and will be removed in a future version.\n",
      "Instructions for updating:\n",
      "Use tf.where in 2.0, which has the same broadcast rule as np.where\n",
      "Train on 40000 samples, validate on 7288 samples\n",
      "Epoch 1/12\n",
      "40000/40000 [==============================] - 123s 3ms/sample - loss: 1.3341 - accuracy: 0.3918 - val_loss: 1.1985 - val_accuracy: 0.4672\n",
      "Epoch 2/12\n",
      "40000/40000 [==============================] - 122s 3ms/sample - loss: 1.1021 - accuracy: 0.5457 - val_loss: 1.0846 - val_accuracy: 0.5483\n",
      "Epoch 3/12\n",
      "40000/40000 [==============================] - 122s 3ms/sample - loss: 0.9395 - accuracy: 0.6357 - val_loss: 1.0538 - val_accuracy: 0.5609\n",
      "Epoch 4/12\n",
      "40000/40000 [==============================] - 122s 3ms/sample - loss: 0.8203 - accuracy: 0.6904 - val_loss: 1.0749 - val_accuracy: 0.5605\n",
      "Epoch 5/12\n",
      "40000/40000 [==============================] - 122s 3ms/sample - loss: 0.7299 - accuracy: 0.7282 - val_loss: 1.1179 - val_accuracy: 0.5498\n",
      "Epoch 6/12\n",
      "40000/40000 [==============================] - 123s 3ms/sample - loss: 0.6541 - accuracy: 0.7562 - val_loss: 1.1792 - val_accuracy: 0.5508\n"
     ]
    },
    {
     "data": {
      "text/plain": [
       "<tensorflow.python.keras.callbacks.History at 0x7f9e50619b50>"
      ]
     },
     "execution_count": 4,
     "metadata": {},
     "output_type": "execute_result"
    }
   ],
   "source": [
    "from tensorflow.keras.layers import Conv1D, MaxPooling1D\n",
    "tf.keras.backend.clear_session()\n",
    "model = Sequential()\n",
    "model.add(Embedding(60000, 128))\n",
    "model.add(tf.keras.layers.Conv1D(\n",
    "                 100,\n",
    "                 5,\n",
    "                 padding='valid',\n",
    "                 activation='relu',\n",
    "                 strides=1))\n",
    "model.add(LSTM(64, dropout=0.2, recurrent_dropout=0.2))\n",
    "model.add(Dense(5, activation='relu'))\n",
    "model.add(Dense(5, activation='softmax'))\n",
    "optim=tf.keras.optimizers.Adam(\n",
    "    learning_rate=0.0001, beta_1=0.99, beta_2=0.999)\n",
    "model.compile(loss=tf.keras.losses.SparseCategoricalCrossentropy(),\n",
    "              optimizer=optim,\n",
    "              metrics=['accuracy'])\n",
    "print(model.summary())\n",
    "callback = tf.keras.callbacks.EarlyStopping(monitor='val_loss', patience=3)\n",
    "model.fit(train_x, train_y , batch_size=32, epochs=12, validation_data=(test_x, test_y), callbacks=[callback])"
   ]
  },
  {
   "cell_type": "markdown",
   "metadata": {},
   "source": [
    "### Save the data and test on short texts"
   ]
  },
  {
   "cell_type": "code",
   "execution_count": 5,
   "metadata": {},
   "outputs": [],
   "source": [
    "model.save('Model_5.h5', save_format='tf')"
   ]
  },
  {
   "cell_type": "code",
   "execution_count": 7,
   "metadata": {},
   "outputs": [],
   "source": [
    "def process(text):\n",
    "    text_p = tokenizer.texts_to_sequences([text])\n",
    "    processed = pad_sequences(text_p, maxlen=20)\n",
    "    return processed"
   ]
  },
  {
   "cell_type": "code",
   "execution_count": 8,
   "metadata": {},
   "outputs": [
    {
     "data": {
      "text/plain": [
       "array([[  0,   0,   0,   0,   0,   0,   0,   0,   0,   0,   0,   0,   0,\n",
       "          0,   0,   0,   0,  49,   9, 729]], dtype=int32)"
      ]
     },
     "execution_count": 8,
     "metadata": {},
     "output_type": "execute_result"
    }
   ],
   "source": [
    "process(\"Today is sunny\")"
   ]
  },
  {
   "cell_type": "code",
   "execution_count": 9,
   "metadata": {},
   "outputs": [
    {
     "data": {
      "text/plain": [
       "2"
      ]
     },
     "execution_count": 9,
     "metadata": {},
     "output_type": "execute_result"
    }
   ],
   "source": [
    "np.argmax(model.predict(process(\"I am too tired if working\")))"
   ]
  },
  {
   "cell_type": "code",
   "execution_count": null,
   "metadata": {},
   "outputs": [],
   "source": []
  }
 ],
 "metadata": {
  "accelerator": "GPU",
  "celltoolbar": "Raw Cell Format",
  "colab": {
   "collapsed_sections": [],
   "name": "ppp.ipynb",
   "provenance": []
  },
  "kernelspec": {
   "display_name": "Python 3",
   "language": "python",
   "name": "python3"
  },
  "language_info": {
   "codemirror_mode": {
    "name": "ipython",
    "version": 3
   },
   "file_extension": ".py",
   "mimetype": "text/x-python",
   "name": "python",
   "nbconvert_exporter": "python",
   "pygments_lexer": "ipython3",
   "version": "3.7.5"
  }
 },
 "nbformat": 4,
 "nbformat_minor": 4
}
