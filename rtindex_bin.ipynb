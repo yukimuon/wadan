{
 "cells": [
  {
   "cell_type": "code",
   "execution_count": 1,
   "metadata": {},
   "outputs": [],
   "source": [
    "import warnings  \n",
    "with warnings.catch_warnings():  \n",
    "    warnings.filterwarnings(\"ignore\",category=FutureWarning)\n",
    "    from tensorflow.keras.models import Sequential\n",
    "    from tensorflow.keras.layers import Dense, Embedding\n",
    "    from absl import logging\n",
    "    import tensorflow as tf\n",
    "    import matplotlib.pyplot as plt\n",
    "    import numpy as np\n",
    "    import os\n",
    "    import pandas as pd\n",
    "    import re\n",
    "    import seaborn as sns\n",
    "    from tensorflow.keras.preprocessing import sequence\n",
    "    from tensorflow.keras.models import Sequential\n",
    "    from tensorflow.keras.layers import Dense, Embedding\n",
    "    from tensorflow.keras.layers import LSTM\n",
    "    from tensorflow.keras.datasets import imdb\n",
    "    import tweepy\n",
    "    import pickle\n",
    "    import random\n",
    "    import json\n",
    "    from tensorflow.keras.preprocessing.sequence import pad_sequences\n",
    "    from tensorflow.keras.preprocessing.text import Tokenizer"
   ]
  },
  {
   "cell_type": "code",
   "execution_count": 2,
   "metadata": {
    "scrolled": true
   },
   "outputs": [],
   "source": [
    "def load_directory_data(directory):\n",
    "  data = {}\n",
    "  data[\"sentence\"] = []\n",
    "  data[\"sentiment\"] = []\n",
    "  for file_path in os.listdir(directory):\n",
    "    with tf.io.gfile.GFile(os.path.join(directory, file_path), \"r\") as f:\n",
    "      data[\"sentence\"].append(f.read())\n",
    "      data[\"sentiment\"].append(re.match(\"\\d+_(\\d+)\\.txt\", file_path).group(1))\n",
    "  return pd.DataFrame.from_dict(data)\n",
    "\n",
    "def load_dataset(directory):\n",
    "  pos_df = load_directory_data(os.path.join(directory, \"pos\"))\n",
    "  neg_df = load_directory_data(os.path.join(directory, \"neg\"))\n",
    "  pos_df[\"polarity\"] = 1\n",
    "  neg_df[\"polarity\"] = 0\n",
    "  return pd.concat([pos_df, neg_df]).sample(frac=1).reset_index(drop=True)\n",
    "\n",
    "def download_and_load_datasets(force_download=False):\n",
    "  dataset = tf.keras.utils.get_file(\n",
    "      fname=\"aclImdb.tar.gz\", \n",
    "      origin=\"http://ai.stanford.edu/~amaas/data/sentiment/aclImdb_v1.tar.gz\", \n",
    "      extract=True)\n",
    "  \n",
    "  train_df = load_dataset(os.path.join(os.path.dirname(dataset), \n",
    "                                       \"aclImdb\", \"train\"))\n",
    "  test_df = load_dataset(os.path.join(os.path.dirname(dataset), \n",
    "                                      \"aclImdb\", \"test\"))\n",
    "  \n",
    "  return train_df, test_df\n",
    "\n",
    "logging.set_verbosity(logging.ERROR)\n",
    "\n",
    "train_df, test_df = download_and_load_datasets()\n",
    "\n",
    "data_x=list(train_df.get(\"sentence\"))\n",
    "datate_x=list(test_df.get(\"sentence\"))\n",
    "def delp(string): \n",
    "    punctuations = '''!()-[]{};:'\"\\,<>./?@#$%^&*_~'''\n",
    "    for x in string.lower(): \n",
    "        if x in punctuations: \n",
    "            string = string.replace(x, \"\") \n",
    "    return string\n",
    "import string\n",
    "pr_train=[]\n",
    "pr_test=[]\n",
    "for x in data_x:\n",
    "    x.replace(\"<br /><br />\",\"\")\n",
    "    x.replace(r\"\\n\", \" \")\n",
    "    pr_train.append(delp(x))\n",
    "for x in datate_x:\n",
    "    x.replace(\"<br /><br />\",\"\")\n",
    "    x.replace(r\"\\n\", \"\")\n",
    "    pr_test.append(delp(x))\n",
    "sentence = pr_train + pr_test\n",
    "tokenizer = Tokenizer(num_words=10000)\n",
    "tokenizer.fit_on_texts(sentence)\n",
    "\n",
    "train_x = pad_sequences(tokenizer.texts_to_sequences(pr_train), maxlen=80)\n",
    "\n",
    "def process(text):\n",
    "    return pad_sequences(tokenizer.texts_to_sequences([text]), maxlen=80)\n",
    "\n",
    "index=0\n",
    "pos=0\n"
   ]
  },
  {
   "cell_type": "code",
   "execution_count": 3,
   "metadata": {},
   "outputs": [],
   "source": [
    "def calibrate(score):\n",
    "    calibrated=0\n",
    "    const=0.5-score\n",
    "    deviation=pow(const,1.5)\n",
    "    calibrated=score+deviation\n",
    "    return calibrated"
   ]
  },
  {
   "cell_type": "code",
   "execution_count": 4,
   "metadata": {},
   "outputs": [],
   "source": [
    "def track(keyword):\n",
    "    f = open(\"apikey\", \"r\")\n",
    "    f.readline()\n",
    "    key0=f.readline().split(\",\")\n",
    "    f.close()\n",
    "    model = tf.keras.models.load_model('Model_bin.h5')\n",
    "\n",
    "\n",
    "    def getAuth(key):\n",
    "        auth = tweepy.OAuthHandler(key[0], key[1])\n",
    "        auth.set_access_token(key[2], key[3])\n",
    "        return auth\n",
    "\n",
    "    class Listener(tweepy.StreamListener):\n",
    "        def on_data(self, data):\n",
    "            par= json.loads(data)\n",
    "            global index,pos\n",
    "            try:\n",
    "                text=par[\"text\"]\n",
    "                text.replace(\"<br /><br />\",\"\")\n",
    "                text.replace(r\"\\n\", \" \")\n",
    "                text_p=delp(text)\n",
    "                index+=1\n",
    "                score=model.predict(process(text_p))[0][0]\n",
    "                if score>0.5:\n",
    "                    pos+=1\n",
    "                print(\"Current semtiment positive index: \",\"{:.2f}\".format(calibrate(pos/index)),\"out of 1\",end='\\r')\n",
    "            except:\n",
    "                pass\n",
    "\n",
    "        def error(self, status):\n",
    "            print(status)\n",
    "\n",
    "    auth=getAuth(key0)\n",
    "    l = Listener()\n",
    "    stream = tweepy.Stream(auth, l)\n",
    "    stream.filter(track=[keyword],languages=[\"en\"])\n",
    "    return 1"
   ]
  },
  {
   "cell_type": "code",
   "execution_count": null,
   "metadata": {},
   "outputs": [
    {
     "name": "stdout",
     "output_type": "stream",
     "text": [
      "WARNING:tensorflow:From /home/nagato/.local/lib/python3.7/site-packages/tensorflow/python/ops/math_grad.py:1250: add_dispatch_support.<locals>.wrapper (from tensorflow.python.ops.array_ops) is deprecated and will be removed in a future version.\n",
      "Instructions for updating:\n",
      "Use tf.where in 2.0, which has the same broadcast rule as np.where\n",
      "Current semtiment positive index:  0.53-0.00j out of 10.54-0.01j out of 1 out of 1\r"
     ]
    }
   ],
   "source": [
    "track(\"trump\")"
   ]
  },
  {
   "cell_type": "code",
   "execution_count": null,
   "metadata": {},
   "outputs": [],
   "source": []
  }
 ],
 "metadata": {
  "kernelspec": {
   "display_name": "Python 3",
   "language": "python",
   "name": "python3"
  },
  "language_info": {
   "codemirror_mode": {
    "name": "ipython",
    "version": 3
   },
   "file_extension": ".py",
   "mimetype": "text/x-python",
   "name": "python",
   "nbconvert_exporter": "python",
   "pygments_lexer": "ipython3",
   "version": "3.7.5"
  }
 },
 "nbformat": 4,
 "nbformat_minor": 4
}
