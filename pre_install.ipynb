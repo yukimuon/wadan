{
 "cells": [
  {
   "cell_type": "code",
   "execution_count": 1,
   "metadata": {},
   "outputs": [
    {
     "name": "stdout",
     "output_type": "stream",
     "text": [
      "Requirement already satisfied: numpy in /home/nagato/.local/lib/python3.7/site-packages (1.18.2)\n",
      "Requirement already satisfied: matplotlib in /home/nagato/.local/lib/python3.7/site-packages (3.2.1)\n",
      "Requirement already satisfied: cycler>=0.10 in /home/nagato/.local/lib/python3.7/site-packages (from matplotlib) (0.10.0)\n",
      "Requirement already satisfied: pyparsing!=2.0.4,!=2.1.2,!=2.1.6,>=2.0.1 in /home/nagato/.local/lib/python3.7/site-packages (from matplotlib) (2.4.7)\n",
      "Requirement already satisfied: python-dateutil>=2.1 in /usr/lib/python3/dist-packages (from matplotlib) (2.7.3)\n",
      "Requirement already satisfied: numpy>=1.11 in /home/nagato/.local/lib/python3.7/site-packages (from matplotlib) (1.18.2)\n",
      "Requirement already satisfied: kiwisolver>=1.0.1 in /home/nagato/.local/lib/python3.7/site-packages (from matplotlib) (1.2.0)\n",
      "Requirement already satisfied: six in /usr/lib/python3/dist-packages (from cycler>=0.10->matplotlib) (1.12.0)\n",
      "Requirement already satisfied: tensorflow==2.0.0b1 in /home/nagato/.local/lib/python3.7/site-packages (2.0.0b1)\n",
      "Requirement already satisfied: google-pasta>=0.1.6 in /home/nagato/.local/lib/python3.7/site-packages (from tensorflow==2.0.0b1) (0.2.0)\n",
      "Requirement already satisfied: numpy<2.0,>=1.14.5 in /home/nagato/.local/lib/python3.7/site-packages (from tensorflow==2.0.0b1) (1.18.2)\n",
      "Requirement already satisfied: termcolor>=1.1.0 in /home/nagato/.local/lib/python3.7/site-packages (from tensorflow==2.0.0b1) (1.1.0)\n",
      "Requirement already satisfied: wrapt>=1.11.1 in /home/nagato/.local/lib/python3.7/site-packages (from tensorflow==2.0.0b1) (1.12.1)\n",
      "Requirement already satisfied: absl-py>=0.7.0 in /home/nagato/.local/lib/python3.7/site-packages (from tensorflow==2.0.0b1) (0.9.0)\n",
      "Requirement already satisfied: keras-applications>=1.0.6 in /home/nagato/.local/lib/python3.7/site-packages (from tensorflow==2.0.0b1) (1.0.8)\n",
      "Requirement already satisfied: six>=1.10.0 in /usr/lib/python3/dist-packages (from tensorflow==2.0.0b1) (1.12.0)\n",
      "Requirement already satisfied: protobuf>=3.6.1 in /usr/lib/python3/dist-packages (from tensorflow==2.0.0b1) (3.6.1)\n",
      "Requirement already satisfied: tb-nightly<1.14.0a20190604,>=1.14.0a20190603 in /home/nagato/.local/lib/python3.7/site-packages (from tensorflow==2.0.0b1) (1.14.0a20190603)\n",
      "Requirement already satisfied: tf-estimator-nightly<1.14.0.dev2019060502,>=1.14.0.dev2019060501 in /home/nagato/.local/lib/python3.7/site-packages (from tensorflow==2.0.0b1) (1.14.0.dev2019060501)\n",
      "Requirement already satisfied: gast>=0.2.0 in /home/nagato/.local/lib/python3.7/site-packages (from tensorflow==2.0.0b1) (0.3.3)\n",
      "Requirement already satisfied: astor>=0.6.0 in /home/nagato/.local/lib/python3.7/site-packages (from tensorflow==2.0.0b1) (0.8.1)\n",
      "Requirement already satisfied: wheel>=0.26 in /usr/lib/python3/dist-packages (from tensorflow==2.0.0b1) (0.32.3)\n",
      "Requirement already satisfied: grpcio>=1.8.6 in /home/nagato/.local/lib/python3.7/site-packages (from tensorflow==2.0.0b1) (1.28.1)\n",
      "Requirement already satisfied: keras-preprocessing>=1.0.5 in /home/nagato/.local/lib/python3.7/site-packages (from tensorflow==2.0.0b1) (1.1.0)\n",
      "Requirement already satisfied: h5py in /home/nagato/.local/lib/python3.7/site-packages (from keras-applications>=1.0.6->tensorflow==2.0.0b1) (2.10.0)\n",
      "Requirement already satisfied: werkzeug>=0.11.15 in /home/nagato/.local/lib/python3.7/site-packages (from tb-nightly<1.14.0a20190604,>=1.14.0a20190603->tensorflow==2.0.0b1) (1.0.1)\n",
      "Requirement already satisfied: markdown>=2.6.8 in /home/nagato/.local/lib/python3.7/site-packages (from tb-nightly<1.14.0a20190604,>=1.14.0a20190603->tensorflow==2.0.0b1) (3.2.1)\n",
      "Requirement already satisfied: setuptools>=41.0.0 in /usr/lib/python3/dist-packages (from tb-nightly<1.14.0a20190604,>=1.14.0a20190603->tensorflow==2.0.0b1) (41.1.0)\n",
      "Requirement already satisfied: silence_tensorflow in /home/nagato/.local/lib/python3.7/site-packages (1.1.1)\n",
      "Requirement already satisfied: tensorflow_datasets in /home/nagato/.local/lib/python3.7/site-packages (3.0.0)\n",
      "Requirement already satisfied: attrs>=18.1.0 in /home/nagato/.local/lib/python3.7/site-packages (from tensorflow_datasets) (19.3.0)\n",
      "Requirement already satisfied: requests>=2.19.0 in /usr/lib/python3/dist-packages (from tensorflow_datasets) (2.21.0)\n",
      "Requirement already satisfied: numpy in /home/nagato/.local/lib/python3.7/site-packages (from tensorflow_datasets) (1.18.2)\n",
      "Requirement already satisfied: tensorflow-metadata in /home/nagato/.local/lib/python3.7/site-packages (from tensorflow_datasets) (0.21.2)\n",
      "Requirement already satisfied: absl-py in /home/nagato/.local/lib/python3.7/site-packages (from tensorflow_datasets) (0.9.0)\n",
      "Requirement already satisfied: termcolor in /home/nagato/.local/lib/python3.7/site-packages (from tensorflow_datasets) (1.1.0)\n",
      "Requirement already satisfied: promise in /home/nagato/.local/lib/python3.7/site-packages (from tensorflow_datasets) (2.3)\n",
      "Requirement already satisfied: dill in /home/nagato/.local/lib/python3.7/site-packages (from tensorflow_datasets) (0.3.1.1)\n",
      "Requirement already satisfied: future in /usr/lib/python3/dist-packages (from tensorflow_datasets) (0.16.0)\n",
      "Requirement already satisfied: protobuf>=3.6.1 in /usr/lib/python3/dist-packages (from tensorflow_datasets) (3.6.1)\n",
      "Requirement already satisfied: tqdm in /home/nagato/.local/lib/python3.7/site-packages (from tensorflow_datasets) (4.45.0)\n",
      "Requirement already satisfied: six in /usr/lib/python3/dist-packages (from tensorflow_datasets) (1.12.0)\n",
      "Requirement already satisfied: wrapt in /home/nagato/.local/lib/python3.7/site-packages (from tensorflow_datasets) (1.12.1)\n",
      "Requirement already satisfied: googleapis-common-protos in /home/nagato/.local/lib/python3.7/site-packages (from tensorflow-metadata->tensorflow_datasets) (1.51.0)\n",
      "Requirement already satisfied: unidecode in /home/nagato/.local/lib/python3.7/site-packages (1.1.1)\n",
      "Requirement already satisfied: pandas in /home/nagato/.local/lib/python3.7/site-packages (1.0.3)\n",
      "Requirement already satisfied: python-dateutil>=2.6.1 in /usr/lib/python3/dist-packages (from pandas) (2.7.3)\n",
      "Requirement already satisfied: numpy>=1.13.3 in /home/nagato/.local/lib/python3.7/site-packages (from pandas) (1.18.2)\n",
      "Requirement already satisfied: pytz>=2017.2 in /usr/lib/python3/dist-packages (from pandas) (2019.2)\n",
      "Requirement already satisfied: seaborn in /home/nagato/.local/lib/python3.7/site-packages (0.10.0)\n",
      "Requirement already satisfied: matplotlib>=2.1.2 in /home/nagato/.local/lib/python3.7/site-packages (from seaborn) (3.2.1)\n",
      "Requirement already satisfied: pandas>=0.22.0 in /home/nagato/.local/lib/python3.7/site-packages (from seaborn) (1.0.3)\n",
      "Requirement already satisfied: numpy>=1.13.3 in /home/nagato/.local/lib/python3.7/site-packages (from seaborn) (1.18.2)\n",
      "Requirement already satisfied: scipy>=1.0.1 in /home/nagato/.local/lib/python3.7/site-packages (from seaborn) (1.4.1)\n",
      "Requirement already satisfied: cycler>=0.10 in /home/nagato/.local/lib/python3.7/site-packages (from matplotlib>=2.1.2->seaborn) (0.10.0)\n",
      "Requirement already satisfied: pyparsing!=2.0.4,!=2.1.2,!=2.1.6,>=2.0.1 in /home/nagato/.local/lib/python3.7/site-packages (from matplotlib>=2.1.2->seaborn) (2.4.7)\n",
      "Requirement already satisfied: kiwisolver>=1.0.1 in /home/nagato/.local/lib/python3.7/site-packages (from matplotlib>=2.1.2->seaborn) (1.2.0)\n",
      "Requirement already satisfied: python-dateutil>=2.1 in /usr/lib/python3/dist-packages (from matplotlib>=2.1.2->seaborn) (2.7.3)\n",
      "Requirement already satisfied: pytz>=2017.2 in /usr/lib/python3/dist-packages (from pandas>=0.22.0->seaborn) (2019.2)\n",
      "Requirement already satisfied: six in /usr/lib/python3/dist-packages (from cycler>=0.10->matplotlib>=2.1.2->seaborn) (1.12.0)\n",
      "Collecting tweepy\n",
      "  Downloading https://files.pythonhosted.org/packages/36/1b/2bd38043d22ade352fc3d3902cf30ce0e2f4bf285be3b304a2782a767aec/tweepy-3.8.0-py2.py3-none-any.whl\n",
      "Requirement already satisfied: requests>=2.11.1 in /usr/lib/python3/dist-packages (from tweepy) (2.21.0)\n",
      "Requirement already satisfied: six>=1.10.0 in /usr/lib/python3/dist-packages (from tweepy) (1.12.0)\n",
      "Collecting PySocks>=1.5.7 (from tweepy)\n",
      "  Downloading https://files.pythonhosted.org/packages/8d/59/b4572118e098ac8e46e399a1dd0f2d85403ce8bbaad9ec79373ed6badaf9/PySocks-1.7.1-py3-none-any.whl\n",
      "Collecting requests-oauthlib>=0.7.0 (from tweepy)\n",
      "  Downloading https://files.pythonhosted.org/packages/a3/12/b92740d845ab62ea4edf04d2f4164d82532b5a0b03836d4d4e71c6f3d379/requests_oauthlib-1.3.0-py2.py3-none-any.whl\n",
      "Collecting oauthlib>=3.0.0 (from requests-oauthlib>=0.7.0->tweepy)\n",
      "\u001b[?25l  Downloading https://files.pythonhosted.org/packages/05/57/ce2e7a8fa7c0afb54a0581b14a65b56e62b5759dbc98e80627142b8a3704/oauthlib-3.1.0-py2.py3-none-any.whl (147kB)\n",
      "\u001b[K    100% |████████████████████████████████| 153kB 4.6MB/s ta 0:00:01\n",
      "\u001b[?25hInstalling collected packages: PySocks, oauthlib, requests-oauthlib, tweepy\n",
      "Successfully installed PySocks-1.7.1 oauthlib-3.1.0 requests-oauthlib-1.3.0 tweepy-3.8.0\n"
     ]
    }
   ],
   "source": [
    "!pip3 install numpy\n",
    "!pip3 install matplotlib\n",
    "!pip3 install tensorflow==2.0.0b1\n",
    "!pip3 install silence_tensorflow\n",
    "!pip3 install tensorflow_datasets\n",
    "!pip3 install unidecode\n",
    "!pip3 install pandas\n",
    "!pip3 install seaborn\n",
    "!pip3 install tweepy"
   ]
  },
  {
   "cell_type": "code",
   "execution_count": null,
   "metadata": {},
   "outputs": [],
   "source": []
  }
 ],
 "metadata": {
  "kernelspec": {
   "display_name": "Python 3",
   "language": "python",
   "name": "python3"
  },
  "language_info": {
   "codemirror_mode": {
    "name": "ipython",
    "version": 3
   },
   "file_extension": ".py",
   "mimetype": "text/x-python",
   "name": "python",
   "nbconvert_exporter": "python",
   "pygments_lexer": "ipython3",
   "version": "3.7.5"
  }
 },
 "nbformat": 4,
 "nbformat_minor": 4
}
