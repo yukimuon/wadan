{
  "nbformat": 4,
  "nbformat_minor": 0,
  "metadata": {
    "kernelspec": {
      "display_name": "Python 3",
      "language": "python",
      "name": "python3"
    },
    "language_info": {
      "codemirror_mode": {
        "name": "ipython",
        "version": 3
      },
      "file_extension": ".py",
      "mimetype": "text/x-python",
      "name": "python",
      "nbconvert_exporter": "python",
      "pygments_lexer": "ipython3",
      "version": "3.7.5-final"
    },
    "colab": {
      "name": "Copy of train.ipynb",
      "provenance": [],
      "collapsed_sections": [],
      "machine_shape": "hm"
    }
  },
  "cells": [
    {
      "cell_type": "code",
      "metadata": {
        "id": "moxDADVjDzHt",
        "colab_type": "code",
        "outputId": "5b40cfc0-3ff1-400c-e987-cf965d29afa0",
        "colab": {
          "base_uri": "https://localhost:8080/",
          "height": 733
        }
      },
      "source": [
        "!pip install tensorflow==2.0\n",
        "!pip install unidecode"
      ],
      "execution_count": 32,
      "outputs": [
        {
          "output_type": "stream",
          "text": [
            "Requirement already satisfied: tensorflow==2.0 in /usr/local/lib/python3.6/dist-packages (2.0.0)\n",
            "Requirement already satisfied: six>=1.10.0 in /usr/local/lib/python3.6/dist-packages (from tensorflow==2.0) (1.12.0)\n",
            "Requirement already satisfied: opt-einsum>=2.3.2 in /usr/local/lib/python3.6/dist-packages (from tensorflow==2.0) (3.2.0)\n",
            "Requirement already satisfied: wrapt>=1.11.1 in /usr/local/lib/python3.6/dist-packages (from tensorflow==2.0) (1.12.1)\n",
            "Requirement already satisfied: numpy<2.0,>=1.16.0 in /usr/local/lib/python3.6/dist-packages (from tensorflow==2.0) (1.18.2)\n",
            "Requirement already satisfied: tensorboard<2.1.0,>=2.0.0 in /usr/local/lib/python3.6/dist-packages (from tensorflow==2.0) (2.0.2)\n",
            "Requirement already satisfied: google-pasta>=0.1.6 in /usr/local/lib/python3.6/dist-packages (from tensorflow==2.0) (0.2.0)\n",
            "Requirement already satisfied: gast==0.2.2 in /usr/local/lib/python3.6/dist-packages (from tensorflow==2.0) (0.2.2)\n",
            "Requirement already satisfied: wheel>=0.26 in /usr/local/lib/python3.6/dist-packages (from tensorflow==2.0) (0.34.2)\n",
            "Requirement already satisfied: tensorflow-estimator<2.1.0,>=2.0.0 in /usr/local/lib/python3.6/dist-packages (from tensorflow==2.0) (2.0.1)\n",
            "Requirement already satisfied: termcolor>=1.1.0 in /usr/local/lib/python3.6/dist-packages (from tensorflow==2.0) (1.1.0)\n",
            "Requirement already satisfied: protobuf>=3.6.1 in /usr/local/lib/python3.6/dist-packages (from tensorflow==2.0) (3.10.0)\n",
            "Requirement already satisfied: grpcio>=1.8.6 in /usr/local/lib/python3.6/dist-packages (from tensorflow==2.0) (1.24.3)\n",
            "Requirement already satisfied: absl-py>=0.7.0 in /usr/local/lib/python3.6/dist-packages (from tensorflow==2.0) (0.9.0)\n",
            "Requirement already satisfied: keras-preprocessing>=1.0.5 in /usr/local/lib/python3.6/dist-packages (from tensorflow==2.0) (1.1.0)\n",
            "Requirement already satisfied: keras-applications>=1.0.8 in /usr/local/lib/python3.6/dist-packages (from tensorflow==2.0) (1.0.8)\n",
            "Requirement already satisfied: astor>=0.6.0 in /usr/local/lib/python3.6/dist-packages (from tensorflow==2.0) (0.8.1)\n",
            "Requirement already satisfied: setuptools>=41.0.0 in /usr/local/lib/python3.6/dist-packages (from tensorboard<2.1.0,>=2.0.0->tensorflow==2.0) (46.0.0)\n",
            "Requirement already satisfied: werkzeug>=0.11.15 in /usr/local/lib/python3.6/dist-packages (from tensorboard<2.1.0,>=2.0.0->tensorflow==2.0) (1.0.0)\n",
            "Requirement already satisfied: markdown>=2.6.8 in /usr/local/lib/python3.6/dist-packages (from tensorboard<2.1.0,>=2.0.0->tensorflow==2.0) (3.2.1)\n",
            "Requirement already satisfied: google-auth<2,>=1.6.3 in /usr/local/lib/python3.6/dist-packages (from tensorboard<2.1.0,>=2.0.0->tensorflow==2.0) (1.7.2)\n",
            "Requirement already satisfied: requests<3,>=2.21.0 in /usr/local/lib/python3.6/dist-packages (from tensorboard<2.1.0,>=2.0.0->tensorflow==2.0) (2.21.0)\n",
            "Requirement already satisfied: google-auth-oauthlib<0.5,>=0.4.1 in /usr/local/lib/python3.6/dist-packages (from tensorboard<2.1.0,>=2.0.0->tensorflow==2.0) (0.4.1)\n",
            "Requirement already satisfied: h5py in /usr/local/lib/python3.6/dist-packages (from keras-applications>=1.0.8->tensorflow==2.0) (2.8.0)\n",
            "Requirement already satisfied: rsa<4.1,>=3.1.4 in /usr/local/lib/python3.6/dist-packages (from google-auth<2,>=1.6.3->tensorboard<2.1.0,>=2.0.0->tensorflow==2.0) (4.0)\n",
            "Requirement already satisfied: cachetools<3.2,>=2.0.0 in /usr/local/lib/python3.6/dist-packages (from google-auth<2,>=1.6.3->tensorboard<2.1.0,>=2.0.0->tensorflow==2.0) (3.1.1)\n",
            "Requirement already satisfied: pyasn1-modules>=0.2.1 in /usr/local/lib/python3.6/dist-packages (from google-auth<2,>=1.6.3->tensorboard<2.1.0,>=2.0.0->tensorflow==2.0) (0.2.8)\n",
            "Requirement already satisfied: certifi>=2017.4.17 in /usr/local/lib/python3.6/dist-packages (from requests<3,>=2.21.0->tensorboard<2.1.0,>=2.0.0->tensorflow==2.0) (2019.11.28)\n",
            "Requirement already satisfied: idna<2.9,>=2.5 in /usr/local/lib/python3.6/dist-packages (from requests<3,>=2.21.0->tensorboard<2.1.0,>=2.0.0->tensorflow==2.0) (2.8)\n",
            "Requirement already satisfied: urllib3<1.25,>=1.21.1 in /usr/local/lib/python3.6/dist-packages (from requests<3,>=2.21.0->tensorboard<2.1.0,>=2.0.0->tensorflow==2.0) (1.24.3)\n",
            "Requirement already satisfied: chardet<3.1.0,>=3.0.2 in /usr/local/lib/python3.6/dist-packages (from requests<3,>=2.21.0->tensorboard<2.1.0,>=2.0.0->tensorflow==2.0) (3.0.4)\n",
            "Requirement already satisfied: requests-oauthlib>=0.7.0 in /usr/local/lib/python3.6/dist-packages (from google-auth-oauthlib<0.5,>=0.4.1->tensorboard<2.1.0,>=2.0.0->tensorflow==2.0) (1.3.0)\n",
            "Requirement already satisfied: pyasn1>=0.1.3 in /usr/local/lib/python3.6/dist-packages (from rsa<4.1,>=3.1.4->google-auth<2,>=1.6.3->tensorboard<2.1.0,>=2.0.0->tensorflow==2.0) (0.4.8)\n",
            "Requirement already satisfied: oauthlib>=3.0.0 in /usr/local/lib/python3.6/dist-packages (from requests-oauthlib>=0.7.0->google-auth-oauthlib<0.5,>=0.4.1->tensorboard<2.1.0,>=2.0.0->tensorflow==2.0) (3.1.0)\n",
            "Collecting unidecode\n",
            "\u001b[?25l  Downloading https://files.pythonhosted.org/packages/d0/42/d9edfed04228bacea2d824904cae367ee9efd05e6cce7ceaaedd0b0ad964/Unidecode-1.1.1-py2.py3-none-any.whl (238kB)\n",
            "\u001b[K     |████████████████████████████████| 245kB 2.7MB/s \n",
            "\u001b[?25hInstalling collected packages: unidecode\n",
            "Successfully installed unidecode-1.1.1\n"
          ],
          "name": "stdout"
        }
      ]
    },
    {
      "cell_type": "code",
      "metadata": {
        "id": "q0anRkEVCqek",
        "colab_type": "code",
        "outputId": "399f7c07-7a38-4a9a-ba5f-817a5a4fc4e2",
        "colab": {
          "base_uri": "https://localhost:8080/",
          "height": 35
        }
      },
      "source": [
        "%tensorflow_version 2.x\n",
        "import numpy as np\n",
        "import matplotlib.pyplot as plt\n",
        "import os\n",
        "import cv2\n",
        "from tqdm import tqdm\n",
        "import pickle\n",
        "import csv\n",
        "import random\n",
        "import tensorflow as tf\n",
        "from tensorflow.keras import Sequential\n",
        "import numpy as np\n",
        "import matplotlib.pyplot as plt\n",
        "from tensorflow.keras.layers import Dense, Dropout, Activation, Flatten, LSTM, Embedding, Reshape\n",
        "print(tf.__version__)\n"
      ],
      "execution_count": 5,
      "outputs": [
        {
          "output_type": "stream",
          "text": [
            "2.0.0\n"
          ],
          "name": "stdout"
        }
      ]
    },
    {
      "cell_type": "code",
      "metadata": {
        "tags": [
          "outputPrepend",
          "outputPrepend",
          "outputPrepend",
          "outputPrepend",
          "outputPrepend",
          "outputPrepend",
          "outputPrepend",
          "outputPrepend",
          "outputPrepend",
          "outputPrepend",
          "outputPrepend",
          "outputPrepend",
          "outputPrepend",
          "outputPrepend",
          "outputPrepend",
          "outputPrepend"
        ],
        "id": "GzLiS_vTCqey",
        "colab_type": "code",
        "outputId": "6ee1de30-233e-43f5-90f7-aa73e03e7088",
        "colab": {
          "base_uri": "https://localhost:8080/",
          "height": 35
        }
      },
      "source": [
        "url=\"https://raw.githubusercontent.com/tlkh/text-emotion-classification/master/data.csv\"\n",
        "import urllib.request\n",
        "urllib.request.urlretrieve(url, \"data.csv\")\n",
        "sentence=[]\n",
        "sentiment=[]\n",
        "texts=[]\n",
        "with open(\"data.csv\") as csvfile:\n",
        "    reader = csv.reader(csvfile)\n",
        "    for row in reader:\n",
        "        texts.append(row)\n",
        "print(texts[12])\n",
        "random.shuffle(texts)\n",
        "for row in texts:\n",
        "        sentence.append(row[0])\n",
        "        sentiment.append(int(row[1]))\n",
        "# neutral, happy, sad, anger, hate.\n"
      ],
      "execution_count": 6,
      "outputs": [
        {
          "output_type": "stream",
          "text": [
            "['angry guy screws his gf in very rude manner', '4']\n"
          ],
          "name": "stdout"
        }
      ]
    },
    {
      "cell_type": "code",
      "metadata": {
        "tags": [
          "outputPrepend"
        ],
        "id": "wQNOhoCNCqe9",
        "colab_type": "code",
        "outputId": "3d2cdaa8-b387-444b-f4f7-0f0e3cd524f7",
        "colab": {
          "base_uri": "https://localhost:8080/",
          "height": 641
        }
      },
      "source": [
        "import tensorflow_hub as hub\n",
        "embed = hub.KerasLayer(\"https://tfhub.dev/google/tf2-preview/nnlm-en-dim128/1\") \n",
        "embeddings = embed(sentence)\n",
        "sent_array = embeddings.numpy()\n",
        "print(embeddings[7])\n",
        "print(embeddings.shape)\n"
      ],
      "execution_count": 7,
      "outputs": [
        {
          "output_type": "stream",
          "text": [
            "tf.Tensor(\n",
            "[ 1.74663693e-01  1.25735238e-01 -1.31882504e-01 -1.35496885e-01\n",
            "  2.04549998e-01 -5.44429868e-02 -8.29431636e-04 -5.44252619e-02\n",
            " -1.16643503e-01  6.64263219e-02  1.76726654e-02 -1.53267041e-01\n",
            " -1.16694711e-01  7.87114259e-03  2.01304600e-01 -7.60124549e-02\n",
            "  1.21336810e-01 -1.14849269e-01  9.65951830e-02 -7.27390349e-02\n",
            " -4.25060000e-03 -6.11165278e-02  1.44659624e-01  2.48515955e-03\n",
            " -4.15436216e-02 -3.90710197e-02 -4.68453951e-02  6.70969933e-02\n",
            " -1.56221181e-01 -8.35357383e-02 -2.81427931e-02  5.33469282e-02\n",
            "  7.15962844e-03 -1.31630688e-04  1.21250153e-01 -9.50673893e-02\n",
            " -8.39619339e-02 -7.97251463e-02 -1.08090742e-02  9.56058875e-02\n",
            " -2.74046332e-01 -1.75905198e-01  5.54327443e-02  1.44193798e-01\n",
            "  1.12006105e-01 -1.14120334e-01  8.17512125e-02  1.28041161e-02\n",
            "  1.38821036e-01  1.46573201e-01 -8.50224309e-03 -1.88676223e-01\n",
            " -4.26060408e-02  1.06746413e-01 -1.05338275e-01 -8.73125792e-02\n",
            "  5.12859896e-02 -1.35774285e-01 -4.23440188e-02  1.73015110e-02\n",
            "  5.79181463e-02  2.40936503e-01  2.21902318e-02 -3.38158272e-02\n",
            "  1.61620736e-01  8.36676359e-02  4.39323373e-02 -6.47422224e-02\n",
            "  6.82697371e-02  3.12298387e-02 -5.31863980e-02  7.37645626e-02\n",
            " -4.21747118e-02 -3.24311778e-02 -3.71651649e-02  6.40496388e-02\n",
            "  7.61886090e-02 -8.28091130e-02 -3.06328200e-02  1.00410149e-01\n",
            "  3.30934636e-02  1.24699853e-01 -1.12853162e-01  4.76252809e-02\n",
            "  8.33875220e-03 -1.03013083e-01 -1.47735760e-01 -1.31237032e-02\n",
            "  2.15362951e-01  1.84201702e-01 -7.45797679e-02  7.29393288e-02\n",
            " -1.14898331e-01 -6.61642998e-02  6.07183576e-02  6.25695437e-02\n",
            " -1.47621501e-02 -9.25136358e-02  1.21700317e-01 -3.15998644e-02\n",
            "  1.77444443e-02  4.04510722e-02  1.71642616e-01 -1.92578331e-01\n",
            " -2.20504664e-02 -1.09773532e-01 -2.34681033e-02  1.00389719e-01\n",
            " -3.80153582e-02 -6.21379502e-02 -1.71575814e-01 -2.00591698e-01\n",
            " -1.82273090e-01  2.11058557e-02 -4.44014035e-02 -8.45691413e-02\n",
            "  6.06459416e-02 -1.24184363e-01 -9.37982276e-02  8.24785531e-02\n",
            "  7.49123245e-02 -5.98189272e-02 -1.72963105e-02  1.99759692e-01\n",
            "  1.40729556e-02 -1.00682406e-02  1.68445900e-01 -5.00113145e-02], shape=(128,), dtype=float32)\n",
            "(47288, 128)\n"
          ],
          "name": "stdout"
        }
      ]
    },
    {
      "cell_type": "code",
      "metadata": {
        "id": "L8h50vvZ64OL",
        "colab_type": "code",
        "colab": {
          "base_uri": "https://localhost:8080/",
          "height": 166
        },
        "outputId": "f619dd04-e080-4d9d-c082-91d310120a49"
      },
      "source": [
        "import tensorflow_datasets as tfds\n",
        "import unidecode\n",
        "token =  tfds.features.text.Tokenizer()\n",
        "vocab = [token.tokenize(x) for x in sentence]\n",
        "vocab = list(set([y for x in vocab for y in x]))\n",
        "encoder = tfds.features.text.SubwordTextEncoder(vocab_list=vocab)\n",
        "X_train = np.array([encoder.encode(x) for x in sentence])\n",
        "print(X_train.shape)\n",
        "print(X_train[:5])\n",
        "print(len(np.unique(X_train)))"
      ],
      "execution_count": 55,
      "outputs": [
        {
          "output_type": "stream",
          "text": [
            "(47288,)\n",
            "[list([17451, 34393, 4310, 34393, 14548, 34393, 2129, 34393, 1036, 34393, 16715, 34393, 16715, 34393, 33676, 34393, 18783, 34393, 10853, 34393, 26766, 34393, 16568, 34393, 10853, 34393, 12789, 34393, 10853, 34393, 6769, 34393, 17889])\n",
            " list([28635, 34393, 19463, 34393, 32249, 34393, 26545, 34393, 21314, 34393, 32646, 34393, 13243, 34393, 17930, 34393, 24613, 34393, 782, 34393, 21927, 34393, 912, 34393, 10484, 34393, 32869, 34393, 24468, 34393, 11971, 34393, 12521, 34393, 7916, 34393, 14183, 34393, 21789, 34393, 11049, 34393, 10484, 34393, 22411, 34393, 18790, 34393, 14798])\n",
            " list([26545, 34393, 24613, 34393, 543, 34393, 15297, 34393, 33812, 34393, 5998, 34393, 15297, 34393, 9243, 34393, 24055, 34393, 10570, 34393, 19271, 34393, 20341, 34393, 30956, 34393, 4416, 34393, 22728, 34393, 395])\n",
            " list([26545, 34393, 25826, 34393, 30841, 34393, 6110, 34393, 1371, 34393, 30956, 34393, 22267, 34393, 21559, 34393, 26227, 34393, 13827, 34393, 18165, 34393, 16180, 34393, 32919, 34393, 15297, 34393, 29636])\n",
            " list([23266, 34393, 20863, 34393, 1786, 34393, 33155, 34393, 28079, 34393, 25775, 34393, 24484, 34393, 26854, 34393, 20341, 34393, 1556, 34393, 17516, 34393, 25764])]\n",
            "43925\n"
          ],
          "name": "stdout"
        }
      ]
    },
    {
      "cell_type": "code",
      "metadata": {
        "id": "FyNbdZxBCqfR",
        "colab_type": "code",
        "outputId": "a7128148-ca8e-4fd2-fb91-8e3f457342bd",
        "colab": {
          "base_uri": "https://localhost:8080/",
          "height": 237
        }
      },
      "source": [
        "from tensorflow.keras.preprocessing import sequence\n",
        "X_train = sequence.pad_sequences(X_train, maxlen=80)\n",
        "max_features = 50000\n",
        "\n",
        "tf.keras.backend.clear_session()  # For easy reset of notebook state.\n",
        "\n",
        "model = Sequential()\n",
        "model.add(Embedding(max_features, 128))\n",
        "#model.add(hub.KerasLayer(\"https://tfhub.dev/google/tf2-preview/nnlm-en-dim50-with-normalization/1\", output_shape=[50], input_shape=[], dtype=tf.string, trainable=True))\n",
        "#model.add(Reshape(target_shape=(128, 1)))\n",
        "model.add(LSTM(128, dropout=0.2, recurrent_dropout=0.2))\n",
        "model.add(Dense(64, activation='relu'))\n",
        "model.add(Dropout(0.2))\n",
        "#model.add(Dense(10, activation='relu'))\n",
        "model.add(Dense(5, activation='softmax'))\n",
        "model.compile(loss='sparse_categorical_crossentropy',\n",
        "              optimizer=tf.keras.optimizers.Adam(learning_rate=0.01, beta_1=0.9, beta_2=0.999, amsgrad=False),\n",
        "              metrics=['accuracy'])\n",
        "model.fit(X_train, np.array(sentiment), batch_size=128, epochs=5, validation_split=0.3, verbose=1)"
      ],
      "execution_count": 80,
      "outputs": [
        {
          "output_type": "stream",
          "text": [
            "Train on 33101 samples, validate on 14187 samples\n",
            "Epoch 1/5\n",
            "33101/33101 [==============================] - 84s 3ms/sample - loss: 1.1039 - accuracy: 0.5175 - val_loss: 0.9850 - val_accuracy: 0.5825\n",
            "Epoch 2/5\n",
            "33101/33101 [==============================] - 81s 2ms/sample - loss: 0.8293 - accuracy: 0.6746 - val_loss: 1.0138 - val_accuracy: 0.5769\n",
            "Epoch 3/5\n",
            "33101/33101 [==============================] - 81s 2ms/sample - loss: 0.5916 - accuracy: 0.7784 - val_loss: 1.1593 - val_accuracy: 0.5633\n",
            "Epoch 4/5\n",
            "33101/33101 [==============================] - 82s 2ms/sample - loss: 0.4459 - accuracy: 0.8305 - val_loss: 1.3369 - val_accuracy: 0.5564\n",
            "Epoch 5/5\n",
            "33101/33101 [==============================] - 82s 2ms/sample - loss: 0.3613 - accuracy: 0.8624 - val_loss: 1.5263 - val_accuracy: 0.5522\n"
          ],
          "name": "stdout"
        },
        {
          "output_type": "execute_result",
          "data": {
            "text/plain": [
              "<tensorflow.python.keras.callbacks.History at 0x7f726cdd98d0>"
            ]
          },
          "metadata": {
            "tags": []
          },
          "execution_count": 80
        }
      ]
    },
    {
      "cell_type": "code",
      "metadata": {
        "id": "VwKKyCalAbWN",
        "colab_type": "code",
        "colab": {
          "base_uri": "https://localhost:8080/",
          "height": 109
        },
        "outputId": "2358003f-2340-43bd-af38-6934f37f668e"
      },
      "source": [
        "output = [\"neutral\", \"happy\", \"sad\", \"anger\", \"hate\"]\n",
        "print(\"i m still working\",output[np.argmax(model.predict(sequence.pad_sequences([encoder.encode(\"i m still working\")])))])\n",
        "print(\"my computer is slow\",output[np.argmax(model.predict(sequence.pad_sequences([encoder.encode(\"my computer is slow\")])))])\n",
        "print(\"fuck you\",output[np.argmax(model.predict(sequence.pad_sequences([encoder.encode(\"fuck you\")])))])\n",
        "print(\"shit\",output[np.argmax(model.predict(sequence.pad_sequences([encoder.encode(\"shit\")])))])\n",
        "print(\"i am busy\",output[np.argmax(model.predict(sequence.pad_sequences([encoder.encode(\"i am busy\")])))])\n"
      ],
      "execution_count": 84,
      "outputs": [
        {
          "output_type": "stream",
          "text": [
            "i m still working sad\n",
            "my computer is slow sad\n",
            "fuck you anger\n",
            "shit sad\n",
            "i am busy sad\n"
          ],
          "name": "stdout"
        }
      ]
    },
    {
      "cell_type": "code",
      "metadata": {
        "id": "3tLmizhPBuqi",
        "colab_type": "code",
        "colab": {
          "base_uri": "https://localhost:8080/",
          "height": 265
        },
        "outputId": "b4de6ed0-af7d-4027-ee59-23742e7768a1"
      },
      "source": [
        "import matplotlib.pyplot as plt\n",
        "plt.hist(np.array(sentiment))\n",
        "plt.show()"
      ],
      "execution_count": 83,
      "outputs": [
        {
          "output_type": "display_data",
          "data": {
            "image/png": "[encoded data removed]",
            "text/plain": [
              "<Figure size 432x288 with 1 Axes>"
            ]
          },
          "metadata": {
            "tags": []
          }
        }
      ]
    }
  ]
}